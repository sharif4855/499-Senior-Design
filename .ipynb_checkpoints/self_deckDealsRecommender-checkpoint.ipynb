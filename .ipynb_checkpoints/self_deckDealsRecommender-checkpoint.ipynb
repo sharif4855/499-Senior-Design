{
 "cells": [
  {
   "cell_type": "code",
   "execution_count": 122,
   "metadata": {},
   "outputs": [
    {
     "data": {
      "text/plain": [
       "'%.4f'"
      ]
     },
     "execution_count": 122,
     "metadata": {},
     "output_type": "execute_result"
    }
   ],
   "source": [
    "import numpy as np\n",
    "import pandas as pd\n",
    "import matplotlib.pyplot as plt\n",
    "%precision 4"
   ]
  },
  {
   "cell_type": "code",
   "execution_count": 146,
   "metadata": {},
   "outputs": [],
   "source": [
    "def getOptimalTheta(iniData):\n",
    "    userList = list(set(iniData['user_id']))\n",
    "    iniData['bias_unit'] = 1\n",
    "    #iniData.to_csv('out.csv', encoding='utf-8', index=False)\n",
    "    \n",
    "    iniTheta = [[0],[0],[0]]\n",
    "    alpha = 0.01\n",
    "    num_iters = 1500\n",
    "    optimal =  []\n",
    "    for user in userList:\n",
    "        tempItems = iniData.loc[iniData['user_id'] == user]\n",
    "        userItems = tempItems[['bias_unit','swipe_direction','z_score','rating']]\n",
    "        featureVec = userItems.iloc[:,[0,1,2]].values\n",
    "        resultVec = userItems.iloc[:,[3]].values\n",
    "        optimalTheta = gradientDescent(featureVec,resultVec,iniTheta,alpha,num_iters)\n",
    "        #cost=computeCost(X,y,optimalTheta)\n",
    "        #iniData.to_csv('out.csv', encoding='utf-8', index=False)\n",
    "        print(optimalTheta, user)"
   ]
  },
  {
   "cell_type": "code",
   "execution_count": 125,
   "metadata": {},
   "outputs": [],
   "source": [
    "#Cleaning data\n",
    "#Dropping rows where impression_time<=0; because without seeing the user can't take any swipe action\n",
    "#Dropping rows where impression_time >= 90000ms; this will be done because almost 99% values are in this range(<100000ms).\n",
    "\n",
    "def cleanAndNormalizeData(userDataframe):\n",
    "    indexNames = userDataframe[(userDataframe['impression_time'] <= 0) | (userDataframe['impression_time'] > 100000)].index\n",
    "    modifiedData= userDataframe.drop(indexNames, axis=0)\n",
    "    modifiedData['swipe_direction'].replace('SWIPED_OUT',-1,inplace = True)\n",
    "    modifiedData['swipe_direction'].replace('SWIPED_IN',1,inplace = True)\n",
    "    \n",
    "    modifiedNormalizedData = getZScore(modifiedData)\n",
    "    return modifiedNormalizedData"
   ]
  },
  {
   "cell_type": "code",
   "execution_count": 126,
   "metadata": {},
   "outputs": [],
   "source": [
    "#Using Z-score normaliztion to normalize the impression_time column\n",
    "\n",
    "def getZScore(modifiedData):\n",
    "    z_score = (modifiedData['impression_time'] - modifiedData['impression_time'].mean())/modifiedData['impression_time'].std()\n",
    "    modifiedData['z_score'] = z_score\n",
    "    return modifiedData"
   ]
  },
  {
   "cell_type": "code",
   "execution_count": 127,
   "metadata": {},
   "outputs": [],
   "source": [
    "def randomRating(cleanedData):\n",
    "    cleanedData['rating'] = np.random.randint(4000,5000,cleanedData.shape[0])\n",
    "    #if(cleanedData.loc[(cleanedData.swipe_direction == 1)]:\n",
    "        #cleanedData['rating'] = cleanedData(np.random.uniform(low=0.45, high=0.5))\n",
    "    #elif(cleanedData['swipe_direction'] == -1):\n",
    "        #cleanedData['rating'] = cleanedData(np.random.uniform(low=0.45, high=0.5))\n",
    "    cleanedData['rating'] = cleanedData['rating']/10000  \n",
    "        \n",
    "    return cleanedData"
   ]
  },
  {
   "cell_type": "code",
   "execution_count": 128,
   "metadata": {},
   "outputs": [],
   "source": [
    "def computeCost(featureVec, resultVec, theta):\n",
    "    m = resultVec.size\n",
    "    J = 0\n",
    "    \n",
    "    hypothesis = featureVec.dot(theta)\n",
    "    \n",
    "    J = 1/(2*m)*np.sum(np.square(hypothesis-resultVec))\n",
    "    \n",
    "    return(J)"
   ]
  },
  {
   "cell_type": "code",
   "execution_count": 140,
   "metadata": {},
   "outputs": [],
   "source": [
    "def gradientDescent(featureVec, resultVec, theta, alpha, num_iters):\n",
    "    m = resultVec.size\n",
    "    J_history = np.zeros(num_iters)\n",
    "    \n",
    "    for iter in np.arange(num_iters):\n",
    "        hypothesis = featureVec.dot(theta)\n",
    "        theta = theta - alpha*(1/m)*(featureVec.T.dot(hypothesis-resultVec))\n",
    "        #J_history[iter] = computeCost(featureVec, resultVec, theta)\n",
    "    return(theta)"
   ]
  },
  {
   "cell_type": "code",
   "execution_count": null,
   "metadata": {},
   "outputs": [],
   "source": [
    "# theta for minimized cost J\n",
    "theta , Cost_J = gradientDescent(X, y)\n",
    "print('theta: ',theta.ravel())\n",
    "\n",
    "plt.plot(Cost_J)\n",
    "plt.ylabel('Cost J')\n",
    "plt.xlabel('Iterations');"
   ]
  }
 ],
 "metadata": {
  "kernelspec": {
   "display_name": "Python 3",
   "language": "python",
   "name": "python3"
  },
  "language_info": {
   "codemirror_mode": {
    "name": "ipython",
    "version": 3
   },
   "file_extension": ".py",
   "mimetype": "text/x-python",
   "name": "python",
   "nbconvert_exporter": "python",
   "pygments_lexer": "ipython3",
   "version": "3.7.1"
  }
 },
 "nbformat": 4,
 "nbformat_minor": 2
}
