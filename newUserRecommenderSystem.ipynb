{
 "cells": [
  {
   "cell_type": "code",
   "execution_count": 1,
   "metadata": {},
   "outputs": [
    {
     "data": {
      "text/plain": [
       "'%.4f'"
      ]
     },
     "execution_count": 1,
     "metadata": {},
     "output_type": "execute_result"
    }
   ],
   "source": [
    "import numpy as np\n",
    "import pandas as pd\n",
    "import matplotlib.pyplot as plt\n",
    "%precision 4"
   ]
  },
  {
   "cell_type": "markdown",
   "metadata": {},
   "source": [
    "# Code for Hypothetical models and theta values for user"
   ]
  },
  {
   "cell_type": "code",
   "execution_count": 26,
   "metadata": {},
   "outputs": [],
   "source": [
    "#Cleaning data\n",
    "#Dropping rows where impression_time<=0; because without seeing the user can't take any swipe action\n",
    "#Dropping rows where impression_time >= 90000ms; this will be done because almost 99% values are in this range(<100000ms).\n",
    "\n",
    "def cleanAndNormalizeData(userDataframe):\n",
    "    indexNames = userDataframe[(userDataframe['impression_time'] <= 0) | (userDataframe['impression_time'] > 90000)].index\n",
    "    modifiedData= userDataframe.drop(indexNames, axis=0)\n",
    "    modifiedData['swipe_direction'].replace('SWIPED_OUT',-1,inplace = True)\n",
    "    modifiedData['swipe_direction'].replace('SWIPED_IN',1,inplace = True)\n",
    "    \n",
    "    modifiedNormalizedData = getZScore(modifiedData)\n",
    "    \n",
    "    return modifiedNormalizedData"
   ]
  },
  {
   "cell_type": "code",
   "execution_count": 3,
   "metadata": {},
   "outputs": [],
   "source": [
    "#Using Z-score normaliztion to normalize the impression_time column\n",
    "\n",
    "def getZScore(modifiedData):\n",
    "    z_score = (modifiedData['impression_time'] - modifiedData['impression_time'].mean())/modifiedData['impression_time'].std()\n",
    "    modifiedData['z_score'] = z_score\n",
    "    return modifiedData"
   ]
  },
  {
   "cell_type": "code",
   "execution_count": 172,
   "metadata": {},
   "outputs": [],
   "source": [
    "#initializing random rating\n",
    "def randomRating(cleanedData):\n",
    "    cleanedData['rating'] = np.random.randint(4000,5000,cleanedData.shape[0])\n",
    "    cleanedData['rating'] = cleanedData['rating']/10000  \n",
    "        \n",
    "    return cleanedData"
   ]
  },
  {
   "cell_type": "code",
   "execution_count": 168,
   "metadata": {},
   "outputs": [],
   "source": [
    "def getOptimalTheta(iniData):\n",
    "    iniData['bias_unit'] = 1\n",
    "    iniTheta = [[0],[0],[0]]\n",
    "    alpha = 0.01\n",
    "    num_iters = 1500\n",
    "    optimal =  []\n",
    "    \n",
    "    for user in userList:\n",
    "        tempItems = iniData.loc[iniData['user_id'] == user]\n",
    "        userItems = tempItems[['bias_unit','swipe_direction','z_score','rating']]\n",
    "        featureVec = userItems.iloc[:,[0,1,2]].values\n",
    "        resultVec = userItems.iloc[:,[3]].values\n",
    "        optimalTheta = gradientDescent(featureVec,resultVec,iniTheta,alpha,num_iters)"
   ]
  },
  {
   "cell_type": "code",
   "execution_count": 169,
   "metadata": {},
   "outputs": [],
   "source": [
    "#calculating optimal theta value\n",
    "def gradientDescent(featureVec, resultVec, theta, alpha, num_iters):\n",
    "    m = resultVec.size\n",
    "    J_history = np.zeros(num_iters)\n",
    "    \n",
    "    for iter in np.arange(num_iters):\n",
    "        hypothesis = featureVec.dot(theta)\n",
    "        theta = theta - alpha*(1/m)*(featureVec.T.dot(hypothesis-resultVec))\n",
    "    return(theta)"
   ]
  },
  {
   "cell_type": "code",
   "execution_count": 170,
   "metadata": {},
   "outputs": [],
   "source": [
    "#calculating the cost for predected value and original value\n",
    "def computeCost(featureVec, resultVec, theta):\n",
    "    m = resultVec.size\n",
    "    J = 0\n",
    "    \n",
    "    hypothesis = featureVec.dot(theta)\n",
    "    \n",
    "    J = 1/(2*m)*np.sum(np.square(hypothesis-resultVec))\n",
    "    \n",
    "    return(J)"
   ]
  },
  {
   "cell_type": "code",
   "execution_count": 178,
   "metadata": {
    "scrolled": false
   },
   "outputs": [],
   "source": [
    "#loading data from data.csv file\n",
    "userDframe = pd.read_csv('data.csv')\n",
    "\n",
    "cleanedData = cleanAndNormalizeData(userDframe)\n",
    "#print(cleanedData['rating'])\n",
    "iniData = randomRating(cleanedData)\n",
    "\n",
    "userList = list(set(iniData['user_id']))\n",
    "dealList = list(sorted(set(iniData['deal_id'])))\n",
    "\n",
    "iniData.to_csv('normalizedData.csv', encoding='utf-8', index=False)\n",
    "\n",
    "getOptimalTheta(iniData)\n",
    "\n",
    "saveRecommendationList()"
   ]
  },
  {
   "cell_type": "markdown",
   "metadata": {},
   "source": [
    "# Code for getting recommended deals/cards"
   ]
  },
  {
   "cell_type": "code",
   "execution_count": 177,
   "metadata": {
    "scrolled": true
   },
   "outputs": [],
   "source": [
    "df = pd.read_csv('normalizedData.csv',usecols=[0,3,6], names=['user_id', 'deal_id', 'rating'],header=0)\n",
    "data = pd.pivot_table(df, index='deal_id', columns='user_id', values='rating')\n",
    "data.head()\n",
    "uu_sim = data.corr()"
   ]
  },
  {
   "cell_type": "code",
   "execution_count": 176,
   "metadata": {},
   "outputs": [],
   "source": [
    "#function for getting the neighbours for the user\n",
    "def get_top_users(uu_sim,target,n=5):\n",
    "    target_cor = uu_sim.loc[target]\n",
    "    top_neighbors = target_cor.nlargest(n+1).iloc[1:]\n",
    "    return top_neighbors\n",
    "    "
   ]
  },
  {
   "cell_type": "code",
   "execution_count": 175,
   "metadata": {},
   "outputs": [],
   "source": [
    "#function for generating user's recommendation list\n",
    "def get_user_deal_score(deal,user):\n",
    "    neighbors = get_top_users(uu_sim,user)\n",
    "    rating_sum = 0\n",
    "    weight_sum = 0\n",
    "    for user,w in zip(neighbors.index,neighbors.values):\n",
    "        if np.isnan(deal[user]):\n",
    "            continue\n",
    "        rating_sum += deal[user] * w\n",
    "        weight_sum += w\n",
    "    if weight_sum == 0:\n",
    "        return 0\n",
    "    else:\n",
    "        return rating_sum/weight_sum"
   ]
  },
  {
   "cell_type": "code",
   "execution_count": 174,
   "metadata": {
    "scrolled": true
   },
   "outputs": [],
   "source": [
    "#this function is saving the data in a file.\n",
    "def saveRecommendationList():\n",
    "    predictedTable = pd.DataFrame(columns=['user_id', 'deal_id', 'predicted_value'])\n",
    "\n",
    "    for user in userList:\n",
    "        table = pd.DataFrame()\n",
    "        for i in range(len(userList)):    \n",
    "            predict = data.apply(get_user_deal_score,axis=1,args=(user,))\n",
    "            predictValue = predict.tolist()\n",
    "            table = pd.DataFrame({'user_id': user,\n",
    "                                  'deal_id': dealList,\n",
    "                                  'predicted_value': predictValue})\n",
    "        predictedTable = pd.concat([predictedTable,table])    \n",
    "    \n",
    "    predictedTable.to_csv('recommendationList.csv', encoding='utf-8', index=True)"
   ]
  },
  {
   "cell_type": "code",
   "execution_count": null,
   "metadata": {},
   "outputs": [],
   "source": []
  }
 ],
 "metadata": {
  "kernelspec": {
   "display_name": "Python 3",
   "language": "python",
   "name": "python3"
  },
  "language_info": {
   "codemirror_mode": {
    "name": "ipython",
    "version": 3
   },
   "file_extension": ".py",
   "mimetype": "text/x-python",
   "name": "python",
   "nbconvert_exporter": "python",
   "pygments_lexer": "ipython3",
   "version": "3.7.3"
  }
 },
 "nbformat": 4,
 "nbformat_minor": 2
}
